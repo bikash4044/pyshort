{
 "cells": [
  {
   "cell_type": "markdown",
   "metadata": {},
   "source": [
    "Q1. How can we store a single quote (‘) as a string in a variable?"
   ]
  },
  {
   "cell_type": "code",
   "execution_count": 1,
   "metadata": {},
   "outputs": [
    {
     "data": {
      "text/plain": [
       "\"'\""
      ]
     },
     "execution_count": 1,
     "metadata": {},
     "output_type": "execute_result"
    }
   ],
   "source": [
    "a=\"\\'\"\n",
    "a"
   ]
  },
  {
   "cell_type": "markdown",
   "metadata": {},
   "source": [
    "Using escaep sequence character we can store it in a variable."
   ]
  },
  {
   "cell_type": "markdown",
   "metadata": {},
   "source": [
    "Q2. Refer the below variable:\n",
    "x = 'a'\n",
    "Here, is x a character type or string type variable? Support your answer with an explanation."
   ]
  },
  {
   "cell_type": "markdown",
   "metadata": {},
   "source": [
    "since, there is no character data type in python, x will be treated as string data type."
   ]
  },
  {
   "cell_type": "markdown",
   "metadata": {},
   "source": [
    "Q3. Application of functions on a variable"
   ]
  },
  {
   "cell_type": "code",
   "execution_count": 10,
   "metadata": {},
   "outputs": [
    {
     "name": "stdout",
     "output_type": "stream",
     "text": [
      "-1\n",
      "11\n",
      "3\n",
      "35\n",
      "Welcome to Python foundation course :1\n"
     ]
    }
   ],
   "source": [
    "v=\"Welcome to Python foundation course\"\n",
    "print(v.find(\"py\"))\n",
    "print(v.find(\"Py\"))\n",
    "print(v.count(\"e\"))\n",
    "print(len(v))\n",
    "print(v+\" :1\")"
   ]
  },
  {
   "cell_type": "markdown",
   "metadata": {},
   "source": [
    "Q4. calculate for word = \"PanaJi@12256\""
   ]
  },
  {
   "cell_type": "code",
   "execution_count": 13,
   "metadata": {},
   "outputs": [
    {
     "name": "stdout",
     "output_type": "stream",
     "text": [
      "Lowercase = 4\n",
      "Uppercase = 2\n",
      "Numeric = 5\n"
     ]
    }
   ],
   "source": [
    "word = \"PanaJi@12256\"\n",
    "lower=0\n",
    "upper=0\n",
    "num=0\n",
    "for i in word:\n",
    "    if(i.islower()):\n",
    "        lower+=1\n",
    "    elif(i.isupper()):\n",
    "        upper+=1\n",
    "    elif(i.isnumeric()):\n",
    "        num+=1\n",
    "\n",
    "print(f\"Lowercase = {lower}\\nUppercase = {upper}\\nNumeric = {num}\")"
   ]
  },
  {
   "cell_type": "code",
   "execution_count": 16,
   "metadata": {},
   "outputs": [
    {
     "name": "stdout",
     "output_type": "stream",
     "text": [
      "You have entered 67.0\n",
      "Converted as 67.0\n",
      "Data type =  <class 'str'>\n"
     ]
    }
   ],
   "source": [
    "#Q5. write a code to store a numerical value inside a variable and then convert it into a string.\n",
    "v = float(input(\"Enter a number:\"))\n",
    "print(f\"You have entered {v}\")\n",
    "v=str(v)\n",
    "print(f\"Converted as {v}\")\n",
    "print(\"Data type = \",type(v))"
   ]
  },
  {
   "cell_type": "code",
   "execution_count": null,
   "metadata": {},
   "outputs": [],
   "source": []
  }
 ],
 "metadata": {
  "kernelspec": {
   "display_name": "Python 3",
   "language": "python",
   "name": "python3"
  },
  "language_info": {
   "codemirror_mode": {
    "name": "ipython",
    "version": 3
   },
   "file_extension": ".py",
   "mimetype": "text/x-python",
   "name": "python",
   "nbconvert_exporter": "python",
   "pygments_lexer": "ipython3",
   "version": "3.10.6"
  }
 },
 "nbformat": 4,
 "nbformat_minor": 2
}
